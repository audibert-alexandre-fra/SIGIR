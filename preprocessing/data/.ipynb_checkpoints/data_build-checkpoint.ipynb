{
 "cells": [
  {
   "cell_type": "code",
   "execution_count": 4,
   "id": "bacterial-charity",
   "metadata": {},
   "outputs": [],
   "source": [
    "import torch.nn as nn\n",
    "import torch\n",
    "import os\n",
    "import numpy as np\n",
    "import matplotlib.pyplot as plt\n",
    "import pickle\n",
    "import pandas as pd"
   ]
  },
  {
   "cell_type": "code",
   "execution_count": 5,
   "id": "enormous-boost",
   "metadata": {},
   "outputs": [],
   "source": [
    "data = pd.read_pickle('data.pkl')"
   ]
  },
  {
   "cell_type": "code",
   "execution_count": 8,
   "id": "behavioral-millennium",
   "metadata": {},
   "outputs": [],
   "source": [
    "X_train = data.loc['Train'][[['Violation', 'Quantum']]\n",
    "X_test = data.loc['Test'][['Violation', 'Quantum']]\n",
    "X_val = data.loc['Val'][['Violation', 'Quantum']]"
   ]
  },
  {
   "cell_type": "code",
   "execution_count": 9,
   "id": "constitutional-engagement",
   "metadata": {},
   "outputs": [
    {
     "data": {
      "text/plain": [
       "Index\n",
       "0           0.0\n",
       "1       11500.0\n",
       "2       10000.0\n",
       "3         315.0\n",
       "4        5100.0\n",
       "         ...   \n",
       "5216     2400.0\n",
       "5217     9000.0\n",
       "5218        0.0\n",
       "5219      662.0\n",
       "5220        0.0\n",
       "Name: Quantum, Length: 5221, dtype: float64"
      ]
     },
     "execution_count": 9,
     "metadata": {},
     "output_type": "execute_result"
    }
   ],
   "source": [
    "X_train"
   ]
  },
  {
   "cell_type": "code",
   "execution_count": 18,
   "id": "elegant-rover",
   "metadata": {},
   "outputs": [],
   "source": [
    "Y_train[(Y_train[:, 0] == 1)&(Y_train[:,1] == 0)] = torch.tensor([1, 150], dtype=torch.float)"
   ]
  },
  {
   "cell_type": "code",
   "execution_count": 19,
   "id": "undefined-estonia",
   "metadata": {},
   "outputs": [
    {
     "data": {
      "text/plain": [
       "5221"
      ]
     },
     "execution_count": 19,
     "metadata": {},
     "output_type": "execute_result"
    }
   ],
   "source": [
    "len(Y_train)"
   ]
  },
  {
   "cell_type": "code",
   "execution_count": 20,
   "id": "pending-defensive",
   "metadata": {},
   "outputs": [
    {
     "data": {
      "image/png": "[encoded data removed]",
      "text/plain": [
       "<Figure size 432x288 with 1 Axes>"
      ]
     },
     "metadata": {
      "needs_background": "light"
     },
     "output_type": "display_data"
    }
   ],
   "source": [
    "fig = plt.figure()\n",
    "plt.hist(Y_train[:, 1].numpy(), bins=30)\n",
    "plt.xlabel('Quantum(€)')\n",
    "plt.ylabel('Nb articles')\n",
    "plt.show()\n",
    "fig.savefig('Quantum_1.png')"
   ]
  },
  {
   "cell_type": "code",
   "execution_count": 21,
   "id": "written-still",
   "metadata": {},
   "outputs": [],
   "source": [
    "maximum = np.log(np.max(Y_train[:,1].numpy()) + 1)\n",
    "Y_train[:, 1] = torch.log(Y_train[:,1] + 1)/ maximum\n",
    "Y_test[:, 1] = torch.log(Y_test[:,1] + 1)/ maximum\n",
    "Y_val[:, 1] = torch.log(Y_val[:,1] + 1)/ maximum"
   ]
  },
  {
   "cell_type": "code",
   "execution_count": 22,
   "id": "heard-examination",
   "metadata": {},
   "outputs": [
    {
     "data": {
      "image/png": "[encoded data removed]",
      "text/plain": [
       "<Figure size 432x288 with 1 Axes>"
      ]
     },
     "metadata": {
      "needs_background": "light"
     },
     "output_type": "display_data"
    }
   ],
   "source": [
    "fig = plt.figure()\n",
    "plt.hist(Y_train[:, 1].numpy(), bins=40)\n",
    "plt.xlabel('Quantum')\n",
    "plt.ylabel('Nb articles')\n",
    "plt.show()\n",
    "fig.savefig('Quantum_2.png')"
   ]
  }
 ],
 "metadata": {
  "kernelspec": {
   "display_name": "Python 3",
   "language": "python",
   "name": "python3"
  },
  "language_info": {
   "codemirror_mode": {
    "name": "ipython",
    "version": 3
   },
   "file_extension": ".py",
   "mimetype": "text/x-python",
   "name": "python",
   "nbconvert_exporter": "python",
   "pygments_lexer": "ipython3",
   "version": "3.7.3"
  }
 },
 "nbformat": 4,
 "nbformat_minor": 5
}
