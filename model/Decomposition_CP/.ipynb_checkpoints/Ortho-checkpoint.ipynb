{
 "cells": [
  {
   "cell_type": "code",
   "execution_count": 16,
   "id": "olympic-water",
   "metadata": {},
   "outputs": [],
   "source": [
    "#Import Library\n",
    "import torch\n",
    "import numpy as np\n",
    "import tensorly as tl\n",
    "from tensorly.decomposition import parafac\n",
    "import tensorly as tl\n",
    "from time import process_time\n",
    "import scipy.linalg\n",
    "import autograd.numpy as np_opt\n",
    "from pymanopt.manifolds import Stiefel\n",
    "from pymanopt import Problem\n",
    "from pymanopt.solvers import SteepestDescent\n",
    "from functools import reduce\n",
    "from  tensorly.random import random_cp\n",
    "import copy\n",
    "from functools import reduce\n",
    "from  tensorly.random import random_cp\n",
    "import copy"
   ]
  },
  {
   "cell_type": "code",
   "execution_count": 17,
   "id": "collected-aquatic",
   "metadata": {},
   "outputs": [],
   "source": [
    "#Function to create random Estimation of Z\n",
    "def createRandomEstimation(shapeZ ,rank):\n",
    "    A_list = []\n",
    "    for shape in shapeZ:\n",
    "        A = np.random.normal(size= (shape, rank))\n",
    "        A_list.append(A)\n",
    "    return A_list"
   ]
  },
  {
   "cell_type": "code",
   "execution_count": 18,
   "id": "bizarre-sample",
   "metadata": {},
   "outputs": [],
   "source": [
    "#Full outProduct to Estimate X.\n",
    "#A_list is a list of numpy which contains list of array A_i\n",
    "def outProduct(A_list):\n",
    "    weights = np.ones(len(A_list[0][0]))\n",
    "    return tl.kruskal_to_tensor((weights,A_list))"
   ]
  },
  {
   "cell_type": "code",
   "execution_count": 19,
   "id": "desirable-maple",
   "metadata": {},
   "outputs": [],
   "source": [
    "#Function used to calculate h\n",
    "# Kronecker product between a_N^r,...,a_1^r whitout a_n^r\n",
    "def kroneckerProduct(A_list, n):\n",
    "    init = None\n",
    "    for index, mat in enumerate(reversed(A_list)):\n",
    "        if (len(A_list) - (index + 1))  != n:\n",
    "            if init is None:\n",
    "                init = mat\n",
    "            else:\n",
    "                init = scipy.linalg.khatri_rao(init, mat)\n",
    "    return init"
   ]
  },
  {
   "cell_type": "code",
   "execution_count": 20,
   "id": "circular-czech",
   "metadata": {},
   "outputs": [],
   "source": [
    "#Function used to calculate h\n",
    "# Kronecker product between a_N^r,...,a_1^r whitout a_n^r\n",
    "def compute_V(A_list, n):\n",
    "    init = None\n",
    "    for index, mat in enumerate(A_list):\n",
    "        if index != n:\n",
    "            if init is None:\n",
    "                init = np.dot(mat.T, mat)\n",
    "            else:\n",
    "                init = np.multiply(init, np.dot(mat.T, mat))\n",
    "    return init"
   ]
  },
  {
   "cell_type": "code",
   "execution_count": 21,
   "id": "cheap-sample",
   "metadata": {},
   "outputs": [],
   "source": [
    "#Function used to unfold in mode ax\n",
    "def unfold(tensor, mode=0):\n",
    "    return np.reshape(np.moveaxis(tensor, mode, 0), \n",
    "                      (tensor.shape[mode], -1), order='F')"
   ]
  },
  {
   "cell_type": "code",
   "execution_count": 22,
   "id": "characteristic-african",
   "metadata": {},
   "outputs": [],
   "source": [
    "def put_in_place(A_list, lamb):\n",
    "    dimension = len(A_list)\n",
    "    rank = len(A_list[0][0])\n",
    "    for dim in range(dimension):\n",
    "        for r in range(rank):\n",
    "            A_list[dim][:, r] *= lamb[r]**(1/dimension)"
   ]
  },
  {
   "cell_type": "code",
   "execution_count": 24,
   "id": "otherwise-laugh",
   "metadata": {},
   "outputs": [],
   "source": [
    "def ortho_update(Z, A_list, dim, rank):\n",
    "    unfolding = unfold(Z, dim)\n",
    "    katri_ro = kroneckerProduct(A_list, dim).T\n",
    "    manifold = Stiefel(A_list[dim].shape[0], A_list[dim].shape[1])\n",
    "    def cost(X): return np_opt.sum((unfolding - np_opt.dot(X, katri_ro))**2)\n",
    "    problem = Problem(manifold=manifold, cost=cost, verbosity=False)\n",
    "    solver = SteepestDescent()\n",
    "    Xopt = solver.solve(problem)\n",
    "    return Xopt"
   ]
  },
  {
   "cell_type": "code",
   "execution_count": 44,
   "id": "liberal-cheese",
   "metadata": {},
   "outputs": [],
   "source": [
    "# CP-decompostion function \n",
    "# Criteria of stop : 500 iterations\n",
    "def cpDecomposition_help(Z, dim_ortho=1, rank=10, max_iter=100):\n",
    "    A_list = createRandomEstimation(Z.shape, rank)\n",
    "    med = np.median(Z)\n",
    "    criteria = 0\n",
    "    best_score = None\n",
    "    order = len(Z.shape)\n",
    "    save = copy.deepcopy(A_list)\n",
    "    \n",
    "    while(criteria < max_iter):\n",
    "        for dim in range(order):\n",
    "            lam = np.linalg.norm(A_list[dim], axis=0)\n",
    "            if dim != dim_ortho:\n",
    "                non_An = [A_list[m] for m in range(order) if m != dim]\n",
    "                V = reduce(np.multiply, map((lambda a: np.dot(a.T, a)), non_An))\n",
    "                new = np.dot(unfold(Z, dim),np.dot(kroneckerProduct(A_list, dim), np.linalg.pinv(V)))\n",
    "            else:\n",
    "                new = ortho_update(Z, A_list, dim, rank)\n",
    "            A_list[dim] = new/lam\n",
    "            put_in_place(A_list, lam)\n",
    "        if np.linalg.norm(Z-outProduct(A_list))< 1e-7:\n",
    "            print(\"End iteration{}/{}\".format(criteria, max_iter))\n",
    "        save = copy.deepcopy(A_list)\n",
    "        criteria += 1\n",
    "    return A_list"
   ]
  }
 ],
 "metadata": {
  "kernelspec": {
   "display_name": "Python 3 (ipykernel)",
   "language": "python",
   "name": "python3"
  },
  "language_info": {
   "codemirror_mode": {
    "name": "ipython",
    "version": 3
   },
   "file_extension": ".py",
   "mimetype": "text/x-python",
   "name": "python",
   "nbconvert_exporter": "python",
   "pygments_lexer": "ipython3",
   "version": "3.7.3"
  }
 },
 "nbformat": 4,
 "nbformat_minor": 5
}
