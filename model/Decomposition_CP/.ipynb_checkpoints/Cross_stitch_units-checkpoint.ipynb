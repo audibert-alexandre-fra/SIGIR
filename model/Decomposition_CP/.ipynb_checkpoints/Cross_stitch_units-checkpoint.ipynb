{
 "cells": [
  {
   "cell_type": "code",
   "execution_count": 37,
   "id": "b619b485",
   "metadata": {},
   "outputs": [],
   "source": [
    "import torch\n",
    "from torch import nn"
   ]
  },
  {
   "cell_type": "code",
   "execution_count": 38,
   "id": "21bec9f6",
   "metadata": {},
   "outputs": [],
   "source": [
    "layer = nn.Linear(10, 10)"
   ]
  },
  {
   "cell_type": "code",
   "execution_count": 39,
   "id": "6c0fb137",
   "metadata": {},
   "outputs": [
    {
     "data": {
      "text/plain": [
       "torch.nn.modules.linear.Linear"
      ]
     },
     "execution_count": 39,
     "metadata": {},
     "output_type": "execute_result"
    }
   ],
   "source": [
    "type(layer)"
   ]
  },
  {
   "cell_type": "code",
   "execution_count": 40,
   "id": "ebe00be1",
   "metadata": {},
   "outputs": [],
   "source": [
    "def permutation(n: int):\n",
    "    return list(range(1, n)) + [0]"
   ]
  },
  {
   "cell_type": "code",
   "execution_count": 83,
   "id": "fa102af0",
   "metadata": {},
   "outputs": [],
   "source": [
    "class CrossStitchUnits(nn.Module):\n",
    "    def __init__(self, layer_1: nn.Module, layer_2: nn.Module, init: float=0.9):\n",
    "        super(CrossStitchUnits, self).__init__()\n",
    "        if type(layer_1) != type(layer_2):\n",
    "            assert \"Type layer is different\"\n",
    "        if isinstance(layer_1, nn.Linear):\n",
    "            if layer_1.weight.shape[0] != layer_2.weight.shape[0]:\n",
    "                assert \" Error output dimension\"\n",
    "            weight_1 = torch.tensor([[init, 1-init]*layer_2.weight.shape[0]]).\\\n",
    "                permute(1, 0)\n",
    "            self.mat_1 = nn.parameter(torc)\n",
    "            self.linear_1 = nn.Linear(2, layer_1.weight.shape[0], bias=False)\n",
    "            self.linear_2 = nn.Linear(2, layer_1.weight.shape[0], bias=False)\n",
    "            self.linear_2.weight.data =\\\n",
    "                torch.tensor([[init, 1-init]*layer_2.weight.shape[0]]).\\\n",
    "                reshape(layer_1.weight.shape[0], 2)\n",
    "        \n",
    "    def forward(self, x1, x2):\n",
    "        data = torch.stack((x1, x2))\n",
    "        data = data.permute(permutation(data.ndim)).reshape(x1.shape[0], x1.shape[1], -1)\n",
    "        print(data.shape)\n",
    "        print(data)\n",
    "        return self.linear_1(data), self.linear_2(data)"
   ]
  },
  {
   "cell_type": "code",
   "execution_count": 84,
   "id": "fd6b187e",
   "metadata": {},
   "outputs": [],
   "source": [
    "a = nn.Linear(2, 3)\n",
    "b = nn.Linear(2, 3)\n",
    "cross = CrossStitchUnits(a, b, init=0.5)"
   ]
  },
  {
   "cell_type": "code",
   "execution_count": 110,
   "id": "7840955d",
   "metadata": {},
   "outputs": [],
   "source": [
    "data = torch.rand((1, 5, 2))\n",
    "x1 = a(data)\n",
    "x2 = b(data)"
   ]
  },
  {
   "cell_type": "code",
   "execution_count": 111,
   "id": "aa69f3ba",
   "metadata": {},
   "outputs": [
    {
     "name": "stdout",
     "output_type": "stream",
     "text": [
      "torch.Size([1, 5, 3])\n"
     ]
    }
   ],
   "source": [
    "print(x1.shape)"
   ]
  },
  {
   "cell_type": "code",
   "execution_count": 87,
   "id": "586a912a",
   "metadata": {},
   "outputs": [
    {
     "data": {
      "text/plain": [
       "3"
      ]
     },
     "execution_count": 87,
     "metadata": {},
     "output_type": "execute_result"
    }
   ],
   "source": [
    "x1.ndim"
   ]
  },
  {
   "cell_type": "code",
   "execution_count": 88,
   "id": "e27d1f2e",
   "metadata": {},
   "outputs": [
    {
     "ename": "IndexError",
     "evalue": "index 1 is out of bounds for dimension 0 with size 1",
     "output_type": "error",
     "traceback": [
      "\u001b[0;31m---------------------------------------------------------------------------\u001b[0m",
      "\u001b[0;31mIndexError\u001b[0m                                Traceback (most recent call last)",
      "\u001b[0;32m/var/folders/g8/t1ktznp963qfwc99qjdsq2fr0000gr/T/ipykernel_2438/2565082235.py\u001b[0m in \u001b[0;36m<module>\u001b[0;34m\u001b[0m\n\u001b[0;32m----> 1\u001b[0;31m \u001b[0mres_1\u001b[0m\u001b[0;34m,\u001b[0m \u001b[0mres_2\u001b[0m \u001b[0;34m=\u001b[0m \u001b[0mcross\u001b[0m\u001b[0;34m(\u001b[0m\u001b[0mx1\u001b[0m\u001b[0;34m,\u001b[0m \u001b[0mx2\u001b[0m\u001b[0;34m)\u001b[0m\u001b[0;34m\u001b[0m\u001b[0;34m\u001b[0m\u001b[0m\n\u001b[0m",
      "\u001b[0;32m~/Thèse/code/CNN_First_Paper/env/lib/python3.7/site-packages/torch/nn/modules/module.py\u001b[0m in \u001b[0;36m_call_impl\u001b[0;34m(self, *input, **kwargs)\u001b[0m\n\u001b[1;32m   1100\u001b[0m         if not (self._backward_hooks or self._forward_hooks or self._forward_pre_hooks or _global_backward_hooks\n\u001b[1;32m   1101\u001b[0m                 or _global_forward_hooks or _global_forward_pre_hooks):\n\u001b[0;32m-> 1102\u001b[0;31m             \u001b[0;32mreturn\u001b[0m \u001b[0mforward_call\u001b[0m\u001b[0;34m(\u001b[0m\u001b[0;34m*\u001b[0m\u001b[0minput\u001b[0m\u001b[0;34m,\u001b[0m \u001b[0;34m**\u001b[0m\u001b[0mkwargs\u001b[0m\u001b[0;34m)\u001b[0m\u001b[0;34m\u001b[0m\u001b[0;34m\u001b[0m\u001b[0m\n\u001b[0m\u001b[1;32m   1103\u001b[0m         \u001b[0;31m# Do not call functions when jit is used\u001b[0m\u001b[0;34m\u001b[0m\u001b[0;34m\u001b[0m\u001b[0;34m\u001b[0m\u001b[0m\n\u001b[1;32m   1104\u001b[0m         \u001b[0mfull_backward_hooks\u001b[0m\u001b[0;34m,\u001b[0m \u001b[0mnon_full_backward_hooks\u001b[0m \u001b[0;34m=\u001b[0m \u001b[0;34m[\u001b[0m\u001b[0;34m]\u001b[0m\u001b[0;34m,\u001b[0m \u001b[0;34m[\u001b[0m\u001b[0;34m]\u001b[0m\u001b[0;34m\u001b[0m\u001b[0;34m\u001b[0m\u001b[0m\n",
      "\u001b[0;32m/var/folders/g8/t1ktznp963qfwc99qjdsq2fr0000gr/T/ipykernel_2438/625461210.py\u001b[0m in \u001b[0;36mforward\u001b[0;34m(self, x1, x2)\u001b[0m\n\u001b[1;32m     18\u001b[0m     \u001b[0;32mdef\u001b[0m \u001b[0mforward\u001b[0m\u001b[0;34m(\u001b[0m\u001b[0mself\u001b[0m\u001b[0;34m,\u001b[0m \u001b[0mx1\u001b[0m\u001b[0;34m,\u001b[0m \u001b[0mx2\u001b[0m\u001b[0;34m)\u001b[0m\u001b[0;34m:\u001b[0m\u001b[0;34m\u001b[0m\u001b[0;34m\u001b[0m\u001b[0m\n\u001b[1;32m     19\u001b[0m         \u001b[0mdata\u001b[0m \u001b[0;34m=\u001b[0m \u001b[0mtorch\u001b[0m\u001b[0;34m.\u001b[0m\u001b[0mstack\u001b[0m\u001b[0;34m(\u001b[0m\u001b[0;34m(\u001b[0m\u001b[0mx1\u001b[0m\u001b[0;34m,\u001b[0m \u001b[0mx2\u001b[0m\u001b[0;34m)\u001b[0m\u001b[0;34m)\u001b[0m\u001b[0;34m\u001b[0m\u001b[0;34m\u001b[0m\u001b[0m\n\u001b[0;32m---> 20\u001b[0;31m         \u001b[0mdata\u001b[0m \u001b[0;34m=\u001b[0m \u001b[0mdata\u001b[0m\u001b[0;34m.\u001b[0m\u001b[0mpermute\u001b[0m\u001b[0;34m(\u001b[0m\u001b[0mpermutation\u001b[0m\u001b[0;34m(\u001b[0m\u001b[0mdata\u001b[0m\u001b[0;34m.\u001b[0m\u001b[0mndim\u001b[0m\u001b[0;34m)\u001b[0m\u001b[0;34m)\u001b[0m\u001b[0;34m.\u001b[0m\u001b[0mreshape\u001b[0m\u001b[0;34m(\u001b[0m\u001b[0mx1\u001b[0m\u001b[0;34m[\u001b[0m\u001b[0;36m0\u001b[0m\u001b[0;34m]\u001b[0m\u001b[0;34m,\u001b[0m \u001b[0mx1\u001b[0m\u001b[0;34m[\u001b[0m\u001b[0;36m1\u001b[0m\u001b[0;34m]\u001b[0m\u001b[0;34m,\u001b[0m \u001b[0;34m-\u001b[0m\u001b[0;36m1\u001b[0m\u001b[0;34m)\u001b[0m\u001b[0;34m\u001b[0m\u001b[0;34m\u001b[0m\u001b[0m\n\u001b[0m\u001b[1;32m     21\u001b[0m         \u001b[0mprint\u001b[0m\u001b[0;34m(\u001b[0m\u001b[0mdata\u001b[0m\u001b[0;34m.\u001b[0m\u001b[0mshape\u001b[0m\u001b[0;34m)\u001b[0m\u001b[0;34m\u001b[0m\u001b[0;34m\u001b[0m\u001b[0m\n\u001b[1;32m     22\u001b[0m         \u001b[0mprint\u001b[0m\u001b[0;34m(\u001b[0m\u001b[0mdata\u001b[0m\u001b[0;34m)\u001b[0m\u001b[0;34m\u001b[0m\u001b[0;34m\u001b[0m\u001b[0m\n",
      "\u001b[0;31mIndexError\u001b[0m: index 1 is out of bounds for dimension 0 with size 1"
     ]
    }
   ],
   "source": [
    "res_1, res_2 = cross(x1, x2)"
   ]
  },
  {
   "cell_type": "code",
   "execution_count": 68,
   "id": "8a14a873",
   "metadata": {},
   "outputs": [
    {
     "data": {
      "text/plain": [
       "torch.Size([1, 5, 3])"
      ]
     },
     "execution_count": 68,
     "metadata": {},
     "output_type": "execute_result"
    }
   ],
   "source": [
    "x1.shape"
   ]
  },
  {
   "cell_type": "code",
   "execution_count": 66,
   "id": "6c35c88b",
   "metadata": {},
   "outputs": [
    {
     "data": {
      "text/plain": [
       "torch.Size([1, 5, 3, 3])"
      ]
     },
     "execution_count": 66,
     "metadata": {},
     "output_type": "execute_result"
    }
   ],
   "source": [
    "res_1.shape"
   ]
  },
  {
   "cell_type": "code",
   "execution_count": 64,
   "id": "85d39bcc",
   "metadata": {},
   "outputs": [
    {
     "data": {
      "text/plain": [
       "tensor([[[[0.0594, 0.0594, 0.0594],\n",
       "          [0.5030, 0.5030, 0.5030],\n",
       "          [0.8442, 0.8442, 0.8442]],\n",
       "\n",
       "         [[0.3858, 0.3858, 0.3858],\n",
       "          [0.0850, 0.0850, 0.0850],\n",
       "          [0.7344, 0.7344, 0.7344]],\n",
       "\n",
       "         [[0.1252, 0.1252, 0.1252],\n",
       "          [0.4413, 0.4413, 0.4413],\n",
       "          [0.7638, 0.7638, 0.7638]],\n",
       "\n",
       "         [[0.0846, 0.0846, 0.0846],\n",
       "          [0.4668, 0.4668, 0.4668],\n",
       "          [0.8455, 0.8455, 0.8455]],\n",
       "\n",
       "         [[0.2994, 0.2994, 0.2994],\n",
       "          [0.2777, 0.2777, 0.2777],\n",
       "          [0.5528, 0.5528, 0.5528]]]], grad_fn=<UnsafeViewBackward0>)"
      ]
     },
     "execution_count": 64,
     "metadata": {},
     "output_type": "execute_result"
    }
   ],
   "source": [
    "res_2"
   ]
  },
  {
   "cell_type": "code",
   "execution_count": 65,
   "id": "0e51368f",
   "metadata": {},
   "outputs": [],
   "source": [
    "a = torch.rand(1, 10)\n",
    "b = torch.rand(1, 10)\n",
    "c = torch.cat((a, b),0)"
   ]
  },
  {
   "cell_type": "code",
   "execution_count": 54,
   "id": "1efd42b0",
   "metadata": {},
   "outputs": [
    {
     "data": {
      "text/plain": [
       "tensor([[[0.2551, 0.3516],\n",
       "         [0.2904, 0.4173],\n",
       "         [0.0955, 0.3145],\n",
       "         [0.3811, 0.1119],\n",
       "         [0.8147, 0.2144],\n",
       "         [0.0584, 0.7293],\n",
       "         [0.3892, 0.4027],\n",
       "         [0.1749, 0.4420],\n",
       "         [0.9881, 0.2928],\n",
       "         [0.7661, 0.4103]]])"
      ]
     },
     "execution_count": 54,
     "metadata": {},
     "output_type": "execute_result"
    }
   ],
   "source": [
    "c.reshape(1, 10, 2)"
   ]
  },
  {
   "cell_type": "code",
   "execution_count": 87,
   "id": "b4bc2825",
   "metadata": {},
   "outputs": [
    {
     "data": {
      "text/plain": [
       "tensor([[0.2700, 0.2206, 0.6417, 0.6320, 0.6443, 0.2493, 0.7276, 0.7430, 0.1936,\n",
       "         0.8816]])"
      ]
     },
     "execution_count": 87,
     "metadata": {},
     "output_type": "execute_result"
    }
   ],
   "source": [
    "tro"
   ]
  },
  {
   "cell_type": "code",
   "execution_count": 100,
   "id": "791135c6",
   "metadata": {},
   "outputs": [],
   "source": [
    "x1 = torch.tensor([[1, 2]])\n",
    "x2 = torch.tensor([[3, 4]])\n",
    "x3 = torch.stack((x1, x2))"
   ]
  },
  {
   "cell_type": "code",
   "execution_count": 101,
   "id": "04c61897",
   "metadata": {},
   "outputs": [
    {
     "data": {
      "text/plain": [
       "torch.Size([2, 1, 2])"
      ]
     },
     "execution_count": 101,
     "metadata": {},
     "output_type": "execute_result"
    }
   ],
   "source": [
    "x3.shape"
   ]
  },
  {
   "cell_type": "code",
   "execution_count": 103,
   "id": "9b10b342",
   "metadata": {},
   "outputs": [],
   "source": [
    "x3 = x3.permute(1, 2, 0)"
   ]
  },
  {
   "cell_type": "code",
   "execution_count": 106,
   "id": "efdea5f2",
   "metadata": {},
   "outputs": [
    {
     "data": {
      "text/plain": [
       "tensor([1, 3])"
      ]
     },
     "execution_count": 106,
     "metadata": {},
     "output_type": "execute_result"
    }
   ],
   "source": [
    "x3[0][0]"
   ]
  },
  {
   "cell_type": "code",
   "execution_count": 113,
   "id": "2467827d",
   "metadata": {},
   "outputs": [
    {
     "ename": "RuntimeError",
     "evalue": "torch.block_diag: Input tensors must have 2 or fewer dimensions. Input 0 has 3 dimensions",
     "output_type": "error",
     "traceback": [
      "\u001b[0;31m---------------------------------------------------------------------------\u001b[0m",
      "\u001b[0;31mRuntimeError\u001b[0m                              Traceback (most recent call last)",
      "\u001b[0;32m/var/folders/g8/t1ktznp963qfwc99qjdsq2fr0000gr/T/ipykernel_2438/2485411885.py\u001b[0m in \u001b[0;36m<module>\u001b[0;34m\u001b[0m\n\u001b[0;32m----> 1\u001b[0;31m \u001b[0mtorch\u001b[0m\u001b[0;34m.\u001b[0m\u001b[0mblock_diag\u001b[0m\u001b[0;34m(\u001b[0m\u001b[0mx1\u001b[0m\u001b[0;34m)\u001b[0m\u001b[0;34m\u001b[0m\u001b[0;34m\u001b[0m\u001b[0m\n\u001b[0m",
      "\u001b[0;32m~/Thèse/code/CNN_First_Paper/env/lib/python3.7/site-packages/torch/functional.py\u001b[0m in \u001b[0;36mblock_diag\u001b[0;34m(*tensors)\u001b[0m\n\u001b[1;32m   1102\u001b[0m     \u001b[0;32mif\u001b[0m \u001b[0mhas_torch_function\u001b[0m\u001b[0;34m(\u001b[0m\u001b[0mtensors\u001b[0m\u001b[0;34m)\u001b[0m\u001b[0;34m:\u001b[0m\u001b[0;34m\u001b[0m\u001b[0;34m\u001b[0m\u001b[0m\n\u001b[1;32m   1103\u001b[0m         \u001b[0;32mreturn\u001b[0m \u001b[0mhandle_torch_function\u001b[0m\u001b[0;34m(\u001b[0m\u001b[0mblock_diag\u001b[0m\u001b[0;34m,\u001b[0m \u001b[0mtensors\u001b[0m\u001b[0;34m,\u001b[0m \u001b[0;34m*\u001b[0m\u001b[0mtensors\u001b[0m\u001b[0;34m)\u001b[0m\u001b[0;34m\u001b[0m\u001b[0;34m\u001b[0m\u001b[0m\n\u001b[0;32m-> 1104\u001b[0;31m     \u001b[0;32mreturn\u001b[0m \u001b[0mtorch\u001b[0m\u001b[0;34m.\u001b[0m\u001b[0m_C\u001b[0m\u001b[0;34m.\u001b[0m\u001b[0m_VariableFunctions\u001b[0m\u001b[0;34m.\u001b[0m\u001b[0mblock_diag\u001b[0m\u001b[0;34m(\u001b[0m\u001b[0mtensors\u001b[0m\u001b[0;34m)\u001b[0m  \u001b[0;31m# type: ignore[attr-defined]\u001b[0m\u001b[0;34m\u001b[0m\u001b[0;34m\u001b[0m\u001b[0m\n\u001b[0m\u001b[1;32m   1105\u001b[0m \u001b[0;34m\u001b[0m\u001b[0m\n\u001b[1;32m   1106\u001b[0m \u001b[0;34m\u001b[0m\u001b[0m\n",
      "\u001b[0;31mRuntimeError\u001b[0m: torch.block_diag: Input tensors must have 2 or fewer dimensions. Input 0 has 3 dimensions"
     ]
    }
   ],
   "source": [
    "torch.block_diag(x1)"
   ]
  },
  {
   "cell_type": "code",
   "execution_count": 109,
   "id": "4c2f154d",
   "metadata": {},
   "outputs": [
    {
     "data": {
      "text/plain": [
       "tensor([[1, 2]])"
      ]
     },
     "execution_count": 109,
     "metadata": {},
     "output_type": "execute_result"
    }
   ],
   "source": [
    "x1"
   ]
  },
  {
   "cell_type": "code",
   "execution_count": null,
   "id": "93f5b9b5",
   "metadata": {},
   "outputs": [],
   "source": []
  }
 ],
 "metadata": {
  "kernelspec": {
   "display_name": "Python 3 (ipykernel)",
   "language": "python",
   "name": "python3"
  },
  "language_info": {
   "codemirror_mode": {
    "name": "ipython",
    "version": 3
   },
   "file_extension": ".py",
   "mimetype": "text/x-python",
   "name": "python",
   "nbconvert_exporter": "python",
   "pygments_lexer": "ipython3",
   "version": "3.7.3"
  }
 },
 "nbformat": 4,
 "nbformat_minor": 5
}
