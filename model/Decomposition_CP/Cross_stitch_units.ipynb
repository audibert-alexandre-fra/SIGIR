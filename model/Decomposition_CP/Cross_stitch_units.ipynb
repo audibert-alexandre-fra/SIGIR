{
 "cells": [
  {
   "cell_type": "code",
   "execution_count": 230,
   "id": "b619b485",
   "metadata": {},
   "outputs": [],
   "source": [
    "import torch\n",
    "from torch import nn"
   ]
  },
  {
   "cell_type": "code",
   "execution_count": 200,
   "id": "21bec9f6",
   "metadata": {},
   "outputs": [],
   "source": [
    "layer = nn.Linear(10, 10)"
   ]
  },
  {
   "cell_type": "code",
   "execution_count": 202,
   "id": "93e2250f",
   "metadata": {},
   "outputs": [],
   "source": [
    "def permutation(n: int):\n",
    "    return list(range(1, n)) + [0]"
   ]
  },
  {
   "cell_type": "code",
   "execution_count": 201,
   "id": "6c0fb137",
   "metadata": {},
   "outputs": [
    {
     "data": {
      "text/plain": [
       "torch.nn.modules.linear.Linear"
      ]
     },
     "execution_count": 201,
     "metadata": {},
     "output_type": "execute_result"
    }
   ],
   "source": [
    "type(layer)"
   ]
  },
  {
   "cell_type": "code",
   "execution_count": 313,
   "id": "fa102af0",
   "metadata": {},
   "outputs": [],
   "source": [
    "class CrossStitchUnits(nn.Module):\n",
    "    def __init__(self, layer_1: nn.Module, layer_2: nn.Module, init: float=0.9):\n",
    "        super(CrossStitchUnits, self).__init__()\n",
    "        self.type = None\n",
    "        if type(layer_1) != type(layer_2):\n",
    "            assert \"Type layer is different\"\n",
    "        if layer_1.weight.shape != layer_2.weight.shape:\n",
    "            assert \" Error dimension\"        \n",
    "        if isinstance(layer_1, nn.Linear):\n",
    "            self.type = 'linear'\n",
    "        if isinstance(layer_1, nn.Conv2d):\n",
    "            self.type = 'conv2D'\n",
    "        if isinstance(layer_1, nn.Conv1d):\n",
    "            self.type = 'conv1D'\n",
    "            \n",
    "        weight_1 = torch.tensor([[init, 1-init]]*layer_2.weight.shape[0])\n",
    "        weight_2 = torch.tensor([[1-init, init]]*layer_2.weight.shape[0])\n",
    "        self.mat_1 = nn.Parameter(weight_1)\n",
    "        self.mat_2 = nn.Parameter(weight_2)\n",
    "        \n",
    "    def forward(self, x1, x2):\n",
    "        data = torch.stack((x1, x2))\n",
    "        data = data.permute(permutation(data.ndim))\n",
    "        if self.type == \"linear\":\n",
    "            res_1 = data*self.mat_1\n",
    "            res_2 = data*self.mat_2\n",
    "            res_1 = res_1.sum(-1)\n",
    "            res_2 = res_2.sum(-1)\n",
    "        elif self.type == \"conv2D\":\n",
    "            data = data.permute(0, 2, 3, 1, 4)\n",
    "            print(data.shape)\n",
    "            print(self.mat_1.shape)\n",
    "            res_1 = data*self.mat_1\n",
    "            res_2 = data*self.mat_2\n",
    "            res_1 = res_1.sum(-1)\n",
    "            res_2 = res_2.sum(-1)            \n",
    "            res_1 = res_1.permute(0, 3, 1, 2)\n",
    "            res_2 = res_2.permute(0, 3, 1, 2)\n",
    "        elif self.type == \"conv1D\":\n",
    "            data = data.permute(0, 2, 1, 3)\n",
    "            res_1 = data*self.mat_1\n",
    "            res_2 = data*self.mat_2\n",
    "            res_1 = res_1.sum(-1)\n",
    "            res_2 = res_2.sum(-1)\n",
    "            res_1 = res_1.permute(0, 2, 1)\n",
    "            res_2 = res_2.permute(0, 2, 1)            \n",
    "        return res_1, res_2"
   ]
  },
  {
   "cell_type": "code",
   "execution_count": 314,
   "id": "e27d1f2e",
   "metadata": {},
   "outputs": [],
   "source": [
    "res_1, res_2 = cross(x1, x2)"
   ]
  },
  {
   "cell_type": "code",
   "execution_count": 315,
   "id": "aa69f3ba",
   "metadata": {},
   "outputs": [
    {
     "name": "stdout",
     "output_type": "stream",
     "text": [
      "torch.Size([1, 3, 3])\n"
     ]
    }
   ],
   "source": [
    "print(x1.shape)"
   ]
  },
  {
   "cell_type": "code",
   "execution_count": 316,
   "id": "7840955d",
   "metadata": {},
   "outputs": [],
   "source": [
    "data = torch.rand((1, 2, 5))\n",
    "x1 = a(data)\n",
    "x2 = b(data)"
   ]
  },
  {
   "cell_type": "code",
   "execution_count": 317,
   "id": "fd6b187e",
   "metadata": {},
   "outputs": [],
   "source": [
    "a = nn.Conv1d(2, 3, kernel_size=3)\n",
    "b = nn.Conv1d(2, 3, kernel_size=3)\n",
    "cross = CrossStitchUnits(a, b, init=0.5)"
   ]
  },
  {
   "cell_type": "code",
   "execution_count": 318,
   "id": "19c1190e",
   "metadata": {},
   "outputs": [],
   "source": [
    "res_1, res_2 = cross(x1, x2)"
   ]
  }
 ],
 "metadata": {
  "kernelspec": {
   "display_name": "Python 3 (ipykernel)",
   "language": "python",
   "name": "python3"
  },
  "language_info": {
   "codemirror_mode": {
    "name": "ipython",
    "version": 3
   },
   "file_extension": ".py",
   "mimetype": "text/x-python",
   "name": "python",
   "nbconvert_exporter": "python",
   "pygments_lexer": "ipython3",
   "version": "3.7.3"
  }
 },
 "nbformat": 4,
 "nbformat_minor": 5
}
