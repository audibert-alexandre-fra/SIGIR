{
 "cells": [
  {
   "cell_type": "code",
   "execution_count": 1,
   "id": "noble-civilian",
   "metadata": {},
   "outputs": [
    {
     "name": "stdout",
     "output_type": "stream",
     "text": [
      "importing Jupyter notebook from Ortho.ipynb\n"
     ]
    }
   ],
   "source": [
    "#Import data\n",
    "import torch\n",
    "from torch.autograd import Variable\n",
    "import pandas as pd\n",
    "import numpy as np\n",
    "from sklearn import decomposition\n",
    "import torch.nn as nn\n",
    "import torch.nn.functional as F\n",
    "import torch.optim as optim\n",
    "import tensorly as tl\n",
    "from tensorly.decomposition import parafac\n",
    "import import_ipynb\n",
    "import Ortho"
   ]
  },
  {
   "cell_type": "code",
   "execution_count": 17,
   "id": "formal-break",
   "metadata": {},
   "outputs": [],
   "source": [
    "# decomposition conv2D\n",
    "layer = nn.Conv1d(in_channels=20, out_channels=20, kernel_size=4, padding='same')\n",
    "weight_conv2D= layer.weight.data"
   ]
  },
  {
   "cell_type": "code",
   "execution_count": 19,
   "id": "growing-introduction",
   "metadata": {},
   "outputs": [],
   "source": [
    "class UnqueezeSecondDim(nn.Module):\n",
    "    def __init__(self):\n",
    "        super(UnqueezeSecondDim, self).__init__()\n",
    "    \n",
    "    def forward(self, x):\n",
    "        return x.unsqueeze(1)\n",
    "    \n",
    "class SqueezeThirdDim(nn.Module):\n",
    "    def __init__(self):\n",
    "        super(SqueezeThirdDim, self).__init__()\n",
    "    \n",
    "    def forward(self, x):\n",
    "        return x.squeeze(2)"
   ]
  },
  {
   "cell_type": "code",
   "execution_count": 26,
   "id": "43863d10",
   "metadata": {},
   "outputs": [],
   "source": [
    "def cp_decomposition_ortho(layer, rank):\n",
    "    unsqueeze_second = UnqueezeSecondDim()\n",
    "    squeeze_third = SqueezeThirdDim()\n",
    "    weight_conv1D= layer.weight.data\n",
    "    dec = Ortho.cpDecomposition_help(weight_conv2D.numpy(), dim_ortho=0, rank=rank)\n",
    "    for i in range(len(dec)):\n",
    "        dec[i] = torch.tensor(dec[i]).float()\n",
    "    last, cin, kernel = dec\n",
    "\n",
    "    pointwise_horizontal_layer =\\\n",
    "    torch.nn.Conv2d(in_channels=1,\n",
    "                    out_channels=kernel.shape[1], kernel_size=(1, kernel.shape[0]),\n",
    "                    stride=layer.stride, padding=layer.padding, bias=False)\n",
    "\n",
    "    depthwise_vertical_layer = \\\n",
    "        torch.nn.Conv2d(in_channels=cin.shape[1],\n",
    "                        out_channels=cin.shape[1],\n",
    "                        kernel_size=(cin.shape[0], 1), stride=1,\n",
    "                        groups=cin.shape[1], bias=False)\n",
    "\n",
    "    pointwise_r_to_t_layer = torch.nn.Conv1d(in_channels=last.shape[1],\n",
    "                                            out_channels=last.shape[0], kernel_size=1, stride=1,\n",
    "                                            padding=0, bias=True)\n",
    "\n",
    "    #Creation de biais\n",
    "    pointwise_r_to_t_layer.bias.data = layer.bias.data\n",
    "\n",
    "    #On met les poids obtenus precedement au bon format!\n",
    "    pointwise_horizontal_layer.weight.data = \\\n",
    "        torch.transpose(kernel, 1, 0).unsqueeze(1).unsqueeze(1)\n",
    "    depthwise_vertical_layer.weight.data = \\\n",
    "        torch.transpose(cin, 1, 0).unsqueeze(1).unsqueeze(-1)\n",
    "    pointwise_r_to_t_layer.weight.data = last.unsqueeze(-1)\n",
    "\n",
    "    new_layers = [unsqueeze_second,\n",
    "                pointwise_horizontal_layer,\n",
    "                  depthwise_vertical_layer,\n",
    "                  squeeze_third,\n",
    "                  pointwise_r_to_t_layer]\n",
    "\n",
    "    return nn.Sequential(*new_layers)"
   ]
  },
  {
   "cell_type": "code",
   "execution_count": 27,
   "id": "ac424000",
   "metadata": {},
   "outputs": [],
   "source": [
    "layer_2 = cp_decomposition_ortho(layer, 16)"
   ]
  },
  {
   "cell_type": "code",
   "execution_count": 28,
   "id": "accepting-camel",
   "metadata": {},
   "outputs": [],
   "source": [
    "test = torch.rand(1, 20, 10)\n",
    "a = layer_2(test)"
   ]
  }
 ],
 "metadata": {
  "kernelspec": {
   "display_name": "Python 3 (ipykernel)",
   "language": "python",
   "name": "python3"
  },
  "language_info": {
   "codemirror_mode": {
    "name": "ipython",
    "version": 3
   },
   "file_extension": ".py",
   "mimetype": "text/x-python",
   "name": "python",
   "nbconvert_exporter": "python",
   "pygments_lexer": "ipython3",
   "version": "3.7.3"
  }
 },
 "nbformat": 4,
 "nbformat_minor": 5
}
